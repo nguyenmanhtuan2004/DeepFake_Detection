{
 "cells": [
  {
   "cell_type": "code",
   "execution_count": 1,
   "id": "0cb83bc1",
   "metadata": {},
   "outputs": [
    {
     "name": "stdout",
     "output_type": "stream",
     "text": [
      "Current working directory: e:\\ComputerVision\\LYTHUYET\\DeepFake_Detection\n",
      "Python path: ['e:\\\\ComputerVision\\\\LYTHUYET\\\\DeepFake_Detection', 'c:\\\\Users\\\\HP\\\\anaconda3\\\\python312.zip', 'c:\\\\Users\\\\HP\\\\anaconda3\\\\DLLs']\n",
      "Files in current dir: ['efficientnet.py', 'train.py', 'xception.py']\n",
      "✅ Xception imported successfully\n",
      "✅ EfficientNetB3 imported successfully\n"
     ]
    }
   ],
   "source": [
    "import sys\n",
    "import os\n",
    "print(\"Current working directory:\", os.getcwd())\n",
    "print(\"Python path:\", sys.path[:3])\n",
    "\n",
    "# List files\n",
    "print(\"Files in current dir:\", [f for f in os.listdir('.') if f.endswith('.py')])\n",
    "\n",
    "# Test import step by step\n",
    "try:\n",
    "    from xception import Xception\n",
    "    print(\"✅ Xception imported successfully\")\n",
    "except Exception as e:\n",
    "    print(\"❌ Xception import error:\", e)\n",
    "\n",
    "try:\n",
    "    from efficientnet import EfficientNetB3\n",
    "    print(\"✅ EfficientNetB3 imported successfully\")\n",
    "except Exception as e:\n",
    "    print(\"❌ EfficientNetB3 import error:\", e)"
   ]
  }
 ],
 "metadata": {
  "kernelspec": {
   "display_name": "base",
   "language": "python",
   "name": "python3"
  },
  "language_info": {
   "codemirror_mode": {
    "name": "ipython",
    "version": 3
   },
   "file_extension": ".py",
   "mimetype": "text/x-python",
   "name": "python",
   "nbconvert_exporter": "python",
   "pygments_lexer": "ipython3",
   "version": "3.12.7"
  }
 },
 "nbformat": 4,
 "nbformat_minor": 5
}
